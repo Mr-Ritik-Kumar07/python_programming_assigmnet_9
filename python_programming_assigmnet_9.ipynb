{
 "cells": [
  {
   "cell_type": "markdown",
   "id": "75670f4b-585c-47d5-8676-47b288bffa9c",
   "metadata": {},
   "source": [
    "1. Write a Python program to check if the given number is a Disarium Number?"
   ]
  },
  {
   "cell_type": "code",
   "execution_count": 6,
   "id": "901471f6-050a-40d8-8b61-c5ac5adf4910",
   "metadata": {},
   "outputs": [
    {
     "name": "stdin",
     "output_type": "stream",
     "text": [
      "Enter a number:  11\n"
     ]
    },
    {
     "name": "stdout",
     "output_type": "stream",
     "text": [
      "False\n"
     ]
    }
   ],
   "source": [
    "class DisariumNumber:\n",
    "    def __init__(self, number):\n",
    "        self.number = number\n",
    "\n",
    "    def is_disarium(self):\n",
    "        num_str = str(self.number)\n",
    "        total = 0\n",
    "        for i in range(len(num_str)):\n",
    "            total += int(num_str[i]) ** (i + 1)\n",
    "        return total == self.number\n",
    "\n",
    "num = int(input(\"Enter a number: \"))\n",
    "d = DisariumNumber(num)\n",
    "print(d.is_disarium())"
   ]
  },
  {
   "cell_type": "markdown",
   "id": "01b54c43-e088-407f-852f-f2290d1e769b",
   "metadata": {},
   "source": [
    "2. Write a Python program to print all disarium numbers between 1 to 100?"
   ]
  },
  {
   "cell_type": "code",
   "execution_count": 8,
   "id": "8e644701-381f-4262-8f25-68f3fe753ef1",
   "metadata": {},
   "outputs": [
    {
     "name": "stdin",
     "output_type": "stream",
     "text": [
      "enter a number: 5\n"
     ]
    },
    {
     "name": "stdout",
     "output_type": "stream",
     "text": [
      "1 2 3 4 5 6 7 8 9 89 None\n"
     ]
    }
   ],
   "source": [
    "class disarium:\n",
    "    def __init__(self,number):\n",
    "        self.number = number\n",
    "    def disarium_numbers(self):\n",
    "        for num in range(1, 101):\n",
    "            total = 0\n",
    "            num_str = str(num)\n",
    "            for i in range(len(num_str)):\n",
    "                total += int(num_str[i]) ** (i + 1)\n",
    "                if total == num:\n",
    "                    print(num, end=' ')\n",
    "num = int(input(\"enter a number:\"))\n",
    "n = disarium(num)\n",
    "print(n.disarium_numbers())"
   ]
  },
  {
   "cell_type": "markdown",
   "id": "e7c87b36-e3ec-4886-b058-a6ae12ca5f01",
   "metadata": {},
   "source": [
    "3. Write a Python program to check if the given number is Happy Number?"
   ]
  },
  {
   "cell_type": "code",
   "execution_count": 13,
   "id": "b8646d9b-60cd-4908-81ce-dacd4e32b0bc",
   "metadata": {},
   "outputs": [
    {
     "name": "stdin",
     "output_type": "stream",
     "text": [
      "Enter a number:  20\n"
     ]
    },
    {
     "name": "stdout",
     "output_type": "stream",
     "text": [
      "False\n"
     ]
    }
   ],
   "source": [
    "class HappyNumber:\n",
    "    def __init__(self, number):\n",
    "        self.number = number\n",
    "\n",
    "    def is_happy(self):\n",
    "        seen = set()\n",
    "        while self.number != 1 and self.number not in seen:\n",
    "            seen.add(self.number)\n",
    "            self.number = sum(int(digit) ** 2 for digit in str(self.number))\n",
    "        return self.number == 1\n",
    "\n",
    "num = int(input(\"Enter a number: \"))\n",
    "h = HappyNumber(num)\n",
    "print(h.is_happy())"
   ]
  },
  {
   "cell_type": "markdown",
   "id": "5ecc2dab-8fea-4878-abad-1b6354aed96c",
   "metadata": {},
   "source": [
    "4. Write a Python program to print all happy numbers between 1 and 100?"
   ]
  },
  {
   "cell_type": "code",
   "execution_count": 14,
   "id": "0b1dd5af-2065-463a-bc74-782fec1a7f0b",
   "metadata": {},
   "outputs": [
    {
     "name": "stdout",
     "output_type": "stream",
     "text": [
      "Happy numbers between 1 and 100 are:\n",
      "1 7 10 13 19 23 28 31 32 44 49 68 70 79 82 86 91 94 97 100 "
     ]
    }
   ],
   "source": [
    "class HappyNumber:\n",
    "    def __init__(self, number):\n",
    "        self.number = number\n",
    "\n",
    "    def is_happy(self):\n",
    "        seen = set()\n",
    "        n = self.number\n",
    "        while n != 1 and n not in seen:\n",
    "            seen.add(n)\n",
    "            n = sum(int(digit) ** 2 for digit in str(n))\n",
    "        return n == 1\n",
    "\n",
    "print(\"Happy numbers between 1 and 100 are:\")\n",
    "\n",
    "for i in range(1, 101):\n",
    "    h = HappyNumber(i)\n",
    "    if h.is_happy():\n",
    "        print(i, end=' ')"
   ]
  },
  {
   "cell_type": "markdown",
   "id": "0250d3eb-e849-4e67-b4f2-feb4fadbb565",
   "metadata": {},
   "source": [
    "5. Write a Python program to determine whether the given number is a Harshad Number?"
   ]
  },
  {
   "cell_type": "code",
   "execution_count": 15,
   "id": "dfc15c67-da91-4080-ab77-f4912b19ae38",
   "metadata": {},
   "outputs": [
    {
     "name": "stdin",
     "output_type": "stream",
     "text": [
      "Enter a number:  10\n"
     ]
    },
    {
     "name": "stdout",
     "output_type": "stream",
     "text": [
      "10 is a Harshad Number\n"
     ]
    }
   ],
   "source": [
    "class HarshadNumber:\n",
    "    def __init__(self, number):\n",
    "        self.number = number\n",
    "\n",
    "    def is_harshad(self):\n",
    "        digit_sum = sum(int(digit) for digit in str(self.number))\n",
    "        return self.number % digit_sum == 0\n",
    "num = int(input(\"Enter a number: \"))\n",
    "h = HarshadNumber(num)\n",
    "if h.is_harshad():\n",
    "    print(f\"{num} is a Harshad Number\")\n",
    "else:\n",
    "    print(f\"{num} is not a Harshad Number\")\n"
   ]
  },
  {
   "cell_type": "markdown",
   "id": "842265c8-6113-4d76-9ca9-06ccfb3b2153",
   "metadata": {},
   "source": [
    "6. Write a Python program to print all pronic numbers between 1 and 100?"
   ]
  },
  {
   "cell_type": "code",
   "execution_count": null,
   "id": "55f232c7-c68f-481a-8a2e-5d073f8edb61",
   "metadata": {},
   "outputs": [],
   "source": [
    "class PronicNumbers:\n",
    "    def __init__(self, limit):\n",
    "        self.limit = limit\n",
    "\n",
    "    def print_pronics(self):\n",
    "        print(f\"Pronic numbers between 1 and {self.limit} are:\")\n",
    "        i = 1\n",
    "        while i * (i + 1) <= self.limit:\n",
    "            print(i * (i + 1), end=' ')\n",
    "            i += 1\n",
    "\n",
    "# Create object and call method\n",
    "p = PronicNumbers(100)\n",
    "p.print_pronics()\n"
   ]
  }
 ],
 "metadata": {
  "kernelspec": {
   "display_name": "Python [conda env:base] *",
   "language": "python",
   "name": "conda-base-py"
  },
  "language_info": {
   "codemirror_mode": {
    "name": "ipython",
    "version": 3
   },
   "file_extension": ".py",
   "mimetype": "text/x-python",
   "name": "python",
   "nbconvert_exporter": "python",
   "pygments_lexer": "ipython3",
   "version": "3.13.5"
  }
 },
 "nbformat": 4,
 "nbformat_minor": 5
}
